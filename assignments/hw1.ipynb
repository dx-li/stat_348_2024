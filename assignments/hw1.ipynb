{
 "cells": [
  {
   "cell_type": "markdown",
   "metadata": {},
   "source": [
    "# **Homework 1:** \n",
    "STATS348, UChicago, Spring 2024\n",
    "\n",
    "----------------\n",
    "**Your name here:**\n",
    "Daniel Li\n",
    "----------------\n",
    "\n",
    "<a href=\"https://colab.research.google.com/github/aschein/stat_348_2024/blob/main/assignments/hw1.ipynb\" target=\"_parent\"><img src=\"https://colab.research.google.com/assets/colab-badge.svg\" alt=\"Open In Colab\"/></a>\n",
    "\n",
    "---\n",
    "\n",
    "## Instructions\n",
    "\n",
    "The purpose of this homework is to apply the concepts raised in week 1 on supervised learning and decision problems:\n",
    "\n",
    "* overfitting / underfitting\n",
    "* CV and model selection\n",
    "* logistic regression\n",
    "* KNNs\n",
    "\n",
    "This homework will also get you familiar with Python and the [scikit-learn](https://scikit-learn.org/stable/) package.\n",
    "\n",
    "For reference, this homework is a close adaption of [homework 1 from the 2021 version of STAT348](https://dynalist.io/d/ehiGZbaDzYG4q9tJvuCrag3U#z=Hu-cB8VnWnu5IXOgZ-3MaF6C&q=%23homework%20).\n",
    "\n",
    "Assignment is due **Saturday March 30, 11:59pm** on GradeScope.\n"
   ]
  },
  {
   "cell_type": "markdown",
   "metadata": {},
   "source": [
    "## **Problem 1:** Elephants\n",
    "\n",
    "Read through [Matthew Stephens' vignette on classifying savannah versus forest elephants](https://stephens999.github.io/fiveMinuteStats/likelihood_ratio_simple_models.html) and then do exercises 2a and 2b from the vignette, which are copied here (and relabeled 1a and 1b).\n",
    "\n",
    "> 1a) Perform the following simulation study. Simulate 1000 tusks (values of $x$) from each of the models $M_S$ and $M_F$. For each simulated tusk compute the LR for $M_S$ vs $M_F$, so you have computed 2000 LRs. Now consider using the LR to classify each tusk as being from a savanna or a forest elephant. Recall that large values for LR indicate support for $M_S$, so a natural classification rule is “classify as savanna if $\\textrm{LR} > c$, otherwise classify as forest” for some threshold $c$. Plot the misclassification rate (= number of tusks wrongly classified/2000) for this rule, as $c$ ranges from 0.01 to 100. What value of $c$ minimizes the misclassification rate? [Hint: the plot will look best if you do things on the log scale, so you could let $\\log_{10}(c)$ vary from -2 to 2 using an equally spaced grid, and plot the misclassification rate on the $y$-axis against $\\log_{10}(c)$ on the $x$-axis.]\n",
    "\n",
    "\n",
    "> 1b) Repeat the above simulation study using 100 tusks from MS and 1900 tusks from MF. What value of $c$ minimizes the misclassification rate? Comment.\n",
    "\n",
    "To complete this problem in Python, here are some useful tools:\n",
    "- To plot you can use [matplotlib](https://matplotlib.org/) and [seaborn](https://seaborn.pydata.org/). You can see the week 1 notebook for examples.\n",
    "\n",
    "- To sample random variables you can use [numpy.random](https://numpy.org/doc/stable/reference/random/index.html)"
   ]
  },
  {
   "cell_type": "code",
   "execution_count": 43,
   "metadata": {},
   "outputs": [],
   "source": [
    "import numpy as np\n",
    "import numpy.random as rn\n",
    "\n",
    "# sample a Bernoulli with probability p\n",
    "p = 0.5\n",
    "x = rn.binomial(1, p)\n",
    "\n",
    "# sample n Bernoullis iid with probability p\n",
    "n = 100\n",
    "x = rn.binomial(1, p, size=n)\n",
    "\n",
    "# sample n Bernoullis independently with different probabilities\n",
    "p = np.array([0.1, 0.4, 0.5, 0.1, 0.9])\n",
    "x = rn.binomial(1, p)\n",
    "\n",
    "# this last example uses broadcasting.\n",
    "# See here: https://numpy.org/doc/stable/user/basics.broadcasting.html"
   ]
  },
  {
   "cell_type": "markdown",
   "metadata": {},
   "source": [
    "To complete the first part of this problem, you should complete the following functions."
   ]
  },
  {
   "cell_type": "code",
   "execution_count": 66,
   "metadata": {},
   "outputs": [],
   "source": [
    "def simulate_tusks_forest(size=1000):\n",
    "    \"\"\"Samples from the likelihood of P(x | forest).\n",
    "    \n",
    "    Parameters\n",
    "    ----------\n",
    "    size : int\n",
    "        The number of samples to draw.\n",
    "    \"\"\"\n",
    "    p = [0.8, 0.2, 0.11, 0.17, 0.23, 0.25]\n",
    "    return rn.binomial(1, p, size=(size, len(p)))\n",
    "\n",
    "def simulate_tusks_savannah(size=1000):\n",
    "    \"\"\"Samples from the likelihood of P(x | savannah).\n",
    "    \n",
    "    Parameters\n",
    "    ----------\n",
    "    size : int\n",
    "        The number of samples to draw.\n",
    "    \"\"\"\n",
    "    p = [0.4, 0.12, 0.21, 0.12, 0.02, 0.32]\n",
    "    return rn.binomial(1, p, size=(size, len(p)))\n",
    "\n",
    "def likelihood_forest(x):\n",
    "    \"\"\"Computes the likelihood of the data under the M_F model (i.e., given that the elephant is forest elephant).\"\"\"\n",
    "    p = np.array([0.8, 0.2, 0.11, 0.17, 0.23, 0.25])\n",
    "    powers = p ** x * (1 - p) ** (1 - x)\n",
    "    return np.prod(powers, axis = 1)\n",
    "\n",
    "\n",
    "def likelihood_savannah(x):\n",
    "    \"\"\"Computes the likelihood of the data under the M_S model (i.e., given that the elephant is a savannah elephant).\"\"\"\n",
    "    p = np.array([0.4, 0.12, 0.21, 0.12, 0.02, 0.32])\n",
    "    powers = p ** x * (1 - p) ** (1 - x)\n",
    "    return np.prod(powers, axis = 1)"
   ]
  },
  {
   "cell_type": "markdown",
   "metadata": {},
   "source": [
    "- **1a)**: Use the functions above to perform the simulations and generate the plots in 1a.\n",
    "\n",
    "    Use code block below for this. The output should display the plot(s), and show which $c$ minimizes the misclassification rate."
   ]
  },
  {
   "cell_type": "code",
   "execution_count": 73,
   "metadata": {},
   "outputs": [
    {
     "data": {
      "image/png": "[encoded data removed]",
      "text/plain": [
       "<Figure size 640x480 with 1 Axes>"
      ]
     },
     "metadata": {},
     "output_type": "display_data"
    }
   ],
   "source": [
    "# Your code here for 1a.\n",
    "\n",
    "import matplotlib.pyplot as plt\n",
    "\n",
    "def classify(x, cutoff):\n",
    "    likelihood_ratio = likelihood_savannah(x) / likelihood_forest(x)\n",
    "    return likelihood_ratio > cutoff\n",
    "\n",
    "def compute_misclassification_rate(data, truth, cutoff):\n",
    "    predictions = classify(data, cutoff)\n",
    "    return 1 - np.mean(predictions == truth)\n",
    "\n",
    "def generate_data(n_forest, n_savannah):\n",
    "    forest_data = simulate_tusks_forest(n_forest)\n",
    "    savannah_data = simulate_tusks_savannah(n_savannah)\n",
    "    data = np.vstack([forest_data, savannah_data])\n",
    "    truth = np.hstack([np.zeros(n_forest), np.ones(n_savannah)])\n",
    "    return data, truth\n",
    "\n",
    "def plot_accuracy(data, truth, log_cutoffs):\n",
    "    cutoffs = 10 ** log_cutoffs\n",
    "    mr = [compute_misclassification_rate(data, truth, cutoff) for cutoff in cutoffs]\n",
    "    plt.plot(log_cutoffs, mr)\n",
    "    plt.xlabel('Cutoff (log10)')\n",
    "    plt.ylabel('Missclassification rate')\n",
    "    plt.axvline(x=log_cutoffs[np.argmin(mr)], color='red')\n",
    "    plt.show()\n",
    "\n",
    "def simulation_experiment(n_forest, n_savannah, log_cutoffs):\n",
    "    data, truth = generate_data(n_forest, n_savannah)\n",
    "    plot_accuracy(data, truth, log_cutoffs)\n",
    "\n",
    "n_forest = 1000\n",
    "n_savannah = 1000\n",
    "log_cutoffs = np.linspace(-2, 2, 100)\n",
    "simulation_experiment(n_forest, n_savannah, log_cutoffs)"
   ]
  },
  {
   "cell_type": "markdown",
   "metadata": {},
   "source": [
    "- **1b)** Now do the same for 1b.\n",
    "\n",
    "    Use code block below for this. The output should display the plot(s), and show which $c$ minimizes the misclassification rate."
   ]
  },
  {
   "cell_type": "code",
   "execution_count": 74,
   "metadata": {},
   "outputs": [
    {
     "data": {
      "image/png": "[encoded data removed]",
      "text/plain": [
       "<Figure size 640x480 with 1 Axes>"
      ]
     },
     "metadata": {},
     "output_type": "display_data"
    }
   ],
   "source": [
    "n_forest = 1900\n",
    "n_savannah = 100\n",
    "log_cutoffs = np.linspace(-2, 2, 100)\n",
    "simulation_experiment(n_forest, n_savannah, log_cutoffs)"
   ]
  },
  {
   "cell_type": "markdown",
   "metadata": {},
   "source": [
    "## **Problem 2:** Digits\n",
    "\n",
    "Consider the [zipcode data from _Elements of Statistical Learning_ (ESL)](https://hastie.su.domains/ElemStatLearn/data.html). Note there is both a train and test set.\n",
    "\n",
    "- **2a)** Download the data and try plotting a few examples of the training data as 16 x 16 images to see if you can see the digits visually as expected. [Hint: Use matplotlib's [imshow](https://matplotlib.org/stable/api/_as_gen/matplotlib.pyplot.imshow.html) function.] "
   ]
  },
  {
   "cell_type": "code",
   "execution_count": 97,
   "metadata": {},
   "outputs": [],
   "source": [
    "import pandas as pd\n",
    "train = pd.read_csv('zip.train.gz', sep=' ', header=None)\n",
    "train.drop(columns=[257], inplace=True)\n",
    "test = pd.read_csv('zip.test.gz', sep=' ', header=None)\n",
    "def plot_random_digit():\n",
    "    digit = train.sample(1)\n",
    "    plt.imshow(digit.values[0][1:].reshape(16, 16), cmap='gray')\n",
    "    plt.show()"
   ]
  },
  {
   "cell_type": "code",
   "execution_count": 94,
   "metadata": {},
   "outputs": [
    {
     "data": {
      "image/png": "[encoded data removed]",
      "text/plain": [
       "<Figure size 640x480 with 1 Axes>"
      ]
     },
     "metadata": {},
     "output_type": "display_data"
    }
   ],
   "source": [
    "plot_random_digit()"
   ]
  },
  {
   "cell_type": "markdown",
   "metadata": {},
   "source": [
    "- **2b)** Consider the problem of trying to distinguish the digit 2 from the digit 3. Use the training data to learn classifiers, using:\n",
    "    - logistic regression (un-regularized)\n",
    "    - K nearest neighbors (K-NNs), with $K=1,3,5,7,15$.\n",
    "    \n",
    "    This gives 6 classifiers in total.\n",
    "\n",
    "    To complete this in Python you will want to use [scikit-learn](https://scikit-learn.org/stable/), and refer to the week 1 notebook for examples."
   ]
  },
  {
   "cell_type": "code",
   "execution_count": 159,
   "metadata": {},
   "outputs": [],
   "source": [
    "\n",
    "from sklearn.linear_model import LogisticRegression\n",
    "from sklearn.neighbors import KNeighborsClassifier\n",
    "train_two_three = train[(train[0] == 2) | (train[0] == 3)]\n",
    "y = train_two_three[0]\n",
    "X = train_two_three.drop(columns=[0])\n",
    "test_two_three = test[(test[0] == 2) | (test[0] == 3)]\n",
    "y_test = test_two_three[0]\n",
    "X_test = test_two_three.drop(columns=[0])\n",
    "\n",
    "logistic = LogisticRegression(penalty='none')\n",
    "logistic.fit(X, y)\n",
    "\n",
    "knn = {}\n",
    "K = [1, 3, 5, 7, 15]\n",
    "for k in K:\n",
    "    knn[k] = KNeighborsClassifier(n_neighbors=k)\n",
    "    knn[k].fit(X, y)\n"
   ]
  },
  {
   "cell_type": "markdown",
   "metadata": {},
   "source": [
    "- **2c)** Apply these classifiers to the test data, and plot the misclassification rates for both training data and test data. (Plot the results for K-NN with $K$ on x-axis, and misclassification rate on y-axis, with two different colors for test and training sets. Then put appropriately colored horizontal lines on the same plot---one for test and one for train---indicating the results for logistic regression.)\n",
    "\n",
    "    Your code in the cell below should output this plot."
   ]
  },
  {
   "cell_type": "code",
   "execution_count": 124,
   "metadata": {},
   "outputs": [],
   "source": [
    "from sklearn.metrics import accuracy_score\n",
    "def misclassification_rate(model, X, y):\n",
    "    return 1 - accuracy_score(y, model.predict(X))\n",
    "def create_plot(logistic, K, knnmodels, train_X, train_y, test_X, test_y):\n",
    "    test_mr = [misclassification_rate(knnmodels[k], test_X, test_y) for k in K]\n",
    "    train_mr = [misclassification_rate(knnmodels[k], train_X, train_y) for k in K]\n",
    "    plt.scatter(K, test_mr, color='red')\n",
    "    plt.scatter(K, train_mr, color='blue')\n",
    "    x = np.linspace(0, 15, 100)\n",
    "    logi_test_mr = misclassification_rate(logistic, test_X, test_y)\n",
    "    logi_train_mr = misclassification_rate(logistic, train_X, train_y)\n",
    "    plt.plot(x, [logi_test_mr]*len(x), color='red')\n",
    "    plt.plot(x, [logi_train_mr]*len(x), color='blue')\n",
    "    plt.xlabel('K')\n",
    "    plt.ylabel('Misclassification rate')\n",
    "    plt.title('Misclassification rate vs K (red = test, blue = train)')\n",
    "    #add legend\n",
    "    plt.show()"
   ]
  },
  {
   "cell_type": "code",
   "execution_count": 125,
   "metadata": {},
   "outputs": [
    {
     "data": {
      "image/png": "[encoded data removed]",
      "text/plain": [
       "<Figure size 640x480 with 1 Axes>"
      ]
     },
     "metadata": {},
     "output_type": "display_data"
    }
   ],
   "source": [
    "create_plot(logistic, K, knn, X, y, X_test, y_test)"
   ]
  },
  {
   "cell_type": "markdown",
   "metadata": {},
   "source": [
    "- **2d)** Repeat the K-NN training as above, but using cross validation (CV) *on the training set* to tune $K$. That is, act like you do not have access to the test data and have to decide what $K$ to use.  How does it do?\n",
    "\n",
    "    Again, for this problem you will want to use [scikit-learn's methods for cross validation](https://scikit-learn.org/stable/modules/cross_validation.html). \n",
    "\n",
    "    Please add code in the cell below, and comment on the results in the space below.\n",
    "\n",
    "----\n",
    "\n",
    "Your text answer here: It finds 5 as the best n_neighbors \n",
    "\n",
    "----"
   ]
  },
  {
   "cell_type": "code",
   "execution_count": 126,
   "metadata": {},
   "outputs": [
    {
     "name": "stdout",
     "output_type": "stream",
     "text": [
      "{'n_neighbors': 5}\n"
     ]
    }
   ],
   "source": [
    "from sklearn.model_selection import GridSearchCV\n",
    "param_grid = {'n_neighbors': K}\n",
    "knn_grid = KNeighborsClassifier()\n",
    "grid = GridSearchCV(knn_grid, param_grid, cv=5)\n",
    "grid.fit(X, y)\n",
    "print(grid.best_params_)"
   ]
  },
  {
   "cell_type": "markdown",
   "metadata": {},
   "source": [
    "- **2e)** Suppose now that for some reason it is considered worse to misclassify a 2 as a 3 than vice versa. Specifically, suppose you lose 5 points every time you misclassify a 2 as a 3, but 1 point every time you misclassify a 3 as a 2. Modify your logistic regression classifier to take account of this new loss function. Compute the new loss on the test set for both the modified classifier and the original logistic classifier. \n",
    "\n",
    "Please add code in the cell below, and provide a brief description / justification of your code in the space below.\n",
    "\n",
    "----\n",
    "\n",
    "Your text answer here: \n",
    "\n",
    "----"
   ]
  },
  {
   "cell_type": "code",
   "execution_count": 149,
   "metadata": {},
   "outputs": [
    {
     "name": "stdout",
     "output_type": "stream",
     "text": [
      "original logistic regression loss:  -52\n",
      "modified logistic regression loss:  -70\n"
     ]
    }
   ],
   "source": [
    "from sklearn.metrics import make_scorer, confusion_matrix\n",
    "def custom_score(y_true, y_pred):\n",
    "    cm = confusion_matrix(y_true, y_pred)\n",
    "    score = -5 * cm[0][1] - cm[1][0]\n",
    "    return score\n",
    "modified_logistic = LogisticRegression(penalty='none', class_weight={2: 5, 3: 1})\n",
    "modified_logistic.fit(X, y)\n",
    "print(\"original logistic regression loss: \", custom_score(y_test, logistic.predict(X_test)))\n",
    "print(\"modified logistic regression loss: \", custom_score(y_test, modified_logistic.predict(X_test)))"
   ]
  },
  {
   "cell_type": "markdown",
   "metadata": {},
   "source": [
    "- **2f)** As far as you can, repeat this for the K-NN classifiers (i.e. modify them for the new loss function and compare the loss for modified vs original classifiers). Discuss any challenges you face here. \n",
    "\n",
    "Please add code in the cell below, and provide a discussion of any challenges in the space below.\n",
    "\n",
    "----\n",
    "\n",
    "Your text answer here: \n",
    "\n",
    "----"
   ]
  },
  {
   "cell_type": "code",
   "execution_count": 161,
   "metadata": {},
   "outputs": [
    {
     "name": "stdout",
     "output_type": "stream",
     "text": [
      "original knn average loss:  -43.4\n",
      "modified knn average loss:  -32.8\n"
     ]
    }
   ],
   "source": [
    "\n",
    "def modified_knn(data, important_class, weight, k):\n",
    "    data_imp = data[data[0] == important_class]\n",
    "    mod_data = data.copy()\n",
    "    for _ in range(weight - 1):\n",
    "        mod_data = pd.concat([data, data_imp])\n",
    "    y = mod_data[0]\n",
    "    X = mod_data.drop(columns=[0])\n",
    "    knn = KNeighborsClassifier(n_neighbors=k)\n",
    "    knn.fit(X, y)\n",
    "    return knn\n",
    "\n",
    "knn_mod = {}\n",
    "K = [1, 3, 5, 7, 15]\n",
    "for k in K:\n",
    "    knn_mod[k] = modified_knn(train_two_three, 2, 5, k)\n",
    "\n",
    "orig_score = 0\n",
    "mod_score = 0\n",
    "for k in K:\n",
    "    orig_score += custom_score(y_test, knn[k].predict(X_test))\n",
    "    mod_score += custom_score(y_test, knn_mod[k].predict(X_test))\n",
    "orig_score /= len(K)\n",
    "mod_score /= len(K)\n",
    "print(\"original knn average loss: \", orig_score)\n",
    "print(\"modified knn average loss: \", mod_score)"
   ]
  },
  {
   "cell_type": "markdown",
   "metadata": {},
   "source": [
    "## **Problem 3:** Multiclass digits\n",
    "\n",
    "Continuing with the zipcode data, now consider distinguishing the digits 1, 2, and 3. \n",
    "\n",
    "- For this problem, you will be generalizing the things we discussed in class about binary classification to **multiclass classification**, using multinomial logistic regression.\n",
    "\n",
    "- Read Section 4.3.5 of [_An Introduction to Statistical Learning with Applications in Python_](https://www.statlearning.com/) on multinomial logistic regression for background.\n",
    "\n",
    "- You can create a multinomial logistic regression model using scikit-learn as follows:"
   ]
  },
  {
   "cell_type": "code",
   "execution_count": 1,
   "metadata": {},
   "outputs": [],
   "source": [
    "from sklearn.linear_model import LogisticRegression\n",
    "# an (unregularized) multinomial logistic regression model\n",
    "logreg = LogisticRegression(penalty='none', solver='liblinear', multi_class='multinomial')"
   ]
  },
  {
   "cell_type": "markdown",
   "metadata": {},
   "source": [
    "- **3a)** Fit a multinomial logistic regression model to the training data of 1s, 2s, and 3s. Then apply it to the test set, and then calculate and plot the **confusion matrix**."
   ]
  },
  {
   "cell_type": "code",
   "execution_count": null,
   "metadata": {},
   "outputs": [],
   "source": [
    "# Your code here for 3a"
   ]
  },
  {
   "cell_type": "markdown",
   "metadata": {},
   "source": [
    "- **3b)** Suppose now that for some reason it is considered twice as bad to misclassify a 1 as a 2 than to make any other misclassification. Modify your multinomiallogistic regression classifier to take account of this new loss function. Compute the new loss on the test set for both the modified classifier and the original logistic classifier. \n",
    "\n",
    "Please add code in the cell below, and provide justification of your code in the space below, including any derivations you had to do.\n",
    "\n",
    "----\n",
    "\n",
    "Your text answer here: \n",
    "\n",
    "----"
   ]
  },
  {
   "cell_type": "code",
   "execution_count": 159,
   "metadata": {},
   "outputs": [],
   "source": [
    "# Your code here for 3b"
   ]
  },
  {
   "cell_type": "markdown",
   "metadata": {},
   "source": [
    "- **3c)** Now consider adding $\\ell_2$ regularization to your multinomial logistic regression classifier and answer the question: does it improve performance? Devise some experiments to answer this question convincingly. Use the code block below to implement and run those experiments, and to generate plot(s) that convey the results. Use the space below to briefly describe and justify your experiments, to summarize the results, and to speculate on why regularization does or does not help in this setting.\n",
    "\n",
    "----\n",
    "\n",
    "Your text answer here: \n",
    "\n",
    "----"
   ]
  },
  {
   "cell_type": "code",
   "execution_count": null,
   "metadata": {},
   "outputs": [],
   "source": [
    "# Your code here for 3c"
   ]
  }
 ],
 "metadata": {
  "kernelspec": {
   "display_name": "base",
   "language": "python",
   "name": "python3"
  },
  "language_info": {
   "codemirror_mode": {
    "name": "ipython",
    "version": 3
   },
   "file_extension": ".py",
   "mimetype": "text/x-python",
   "name": "python",
   "nbconvert_exporter": "python",
   "pygments_lexer": "ipython3",
   "version": "3.10.13"
  }
 },
 "nbformat": 4,
 "nbformat_minor": 2
}
